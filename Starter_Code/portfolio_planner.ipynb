{
 "cells": [
  {
   "cell_type": "code",
   "execution_count": 1,
   "metadata": {},
   "outputs": [],
   "source": [
    "import numpy as np\n",
    "import pandas as pd\n",
    "from datetime import datetime, timedelta\n",
    "import matplotlib.pyplot as plt\n",
    "%matplotlib inline"
   ]
  },
  {
   "cell_type": "code",
   "execution_count": 2,
   "metadata": {},
   "outputs": [],
   "source": [
    "np.random.seed(42)"
   ]
  },
  {
   "cell_type": "markdown",
   "metadata": {},
   "source": [
    "# Portfolio Planner\n",
    "\n",
    "In this activity, you will use the iedfinance api to grab historical data for a 60/40 portfolio using `SPY` to represent the stock portion and `AGG` to represent the bonds."
   ]
  },
  {
   "cell_type": "code",
   "execution_count": 3,
   "metadata": {},
   "outputs": [],
   "source": [
    "from iexfinance.stocks import get_historical_data\n",
    "import iexfinance as iex"
   ]
  },
  {
   "cell_type": "markdown",
   "metadata": {},
   "source": [
    "# Data Collection\n",
    "\n",
    "In this step, you will need to use the IEX api to fetch closing prices for the `SPY` and `AGG` tickers. Save the results as a pandas DataFrame"
   ]
  },
  {
   "cell_type": "code",
   "execution_count": 5,
   "metadata": {},
   "outputs": [
    {
     "data": {
      "text/html": [
       "<div>\n",
       "<style scoped>\n",
       "    .dataframe tbody tr th:only-of-type {\n",
       "        vertical-align: middle;\n",
       "    }\n",
       "\n",
       "    .dataframe tbody tr th {\n",
       "        vertical-align: top;\n",
       "    }\n",
       "\n",
       "    .dataframe thead tr th {\n",
       "        text-align: left;\n",
       "    }\n",
       "\n",
       "    .dataframe thead tr:last-of-type th {\n",
       "        text-align: right;\n",
       "    }\n",
       "</style>\n",
       "<table border=\"1\" class=\"dataframe\">\n",
       "  <thead>\n",
       "    <tr>\n",
       "      <th></th>\n",
       "      <th>SPY</th>\n",
       "      <th>AGG</th>\n",
       "    </tr>\n",
       "    <tr>\n",
       "      <th></th>\n",
       "      <th>close</th>\n",
       "      <th>close</th>\n",
       "    </tr>\n",
       "    <tr>\n",
       "      <th>date</th>\n",
       "      <th></th>\n",
       "      <th></th>\n",
       "    </tr>\n",
       "  </thead>\n",
       "  <tbody>\n",
       "    <tr>\n",
       "      <th>2018-08-30</th>\n",
       "      <td>290.30</td>\n",
       "      <td>106.42</td>\n",
       "    </tr>\n",
       "    <tr>\n",
       "      <th>2018-08-31</th>\n",
       "      <td>290.31</td>\n",
       "      <td>106.41</td>\n",
       "    </tr>\n",
       "    <tr>\n",
       "      <th>2018-09-04</th>\n",
       "      <td>289.81</td>\n",
       "      <td>106.06</td>\n",
       "    </tr>\n",
       "    <tr>\n",
       "      <th>2018-09-05</th>\n",
       "      <td>289.03</td>\n",
       "      <td>106.01</td>\n",
       "    </tr>\n",
       "    <tr>\n",
       "      <th>2018-09-06</th>\n",
       "      <td>288.16</td>\n",
       "      <td>106.19</td>\n",
       "    </tr>\n",
       "  </tbody>\n",
       "</table>\n",
       "</div>"
      ],
      "text/plain": [
       "               SPY     AGG\n",
       "             close   close\n",
       "date                      \n",
       "2018-08-30  290.30  106.42\n",
       "2018-08-31  290.31  106.41\n",
       "2018-09-04  289.81  106.06\n",
       "2018-09-05  289.03  106.01\n",
       "2018-09-06  288.16  106.19"
      ]
     },
     "execution_count": 5,
     "metadata": {},
     "output_type": "execute_result"
    }
   ],
   "source": [
    "list_of_tickers = [\"SPY\", \"AGG\"]\n",
    "\n",
    "# Set start and end datetimes of 1 year, between now and 365 days ago.\n",
    "end_date = datetime.now()\n",
    "start_date = end_date + timedelta(-365)\n",
    "\n",
    "# Get 1 year's worth of historical data for AAPL\n",
    "historical_df = get_historical_data(list_of_tickers, start_date, end_date,  output_format='pandas')\n",
    "\n",
    "# Drop open, high, low, volume columns\n",
    "historical_df.drop(columns=['open', 'high', 'low', 'volume'], level=1, inplace=True)\n",
    "historical_df.head()"
   ]
  },
  {
   "cell_type": "markdown",
   "metadata": {},
   "source": [
    "# Monte Carlo Simulation\n",
    "\n",
    "In this step, you will run Monte Carlo Simulations for your portfolio to model portfolio performance at different retirement ages. \n",
    "\n",
    "Complete the following steps:\n",
    "1. Calculate the daily returns for the SPY and AGG closing prices.\n",
    "2. Calculate volatility for both the SPY and AGG closing prices.\n",
    "3. Find the last day's closing price for both stocks and save those as variables.\n",
    "4. Run a Monte Carlo Simulation of at least 100 iterations and generate at least 20 years of closing prices\n",
    "\n",
    "### HINTS:\n",
    "There are 252 trading days per year, so the number of records to generate for each Monte Carlo run will be 252 days * 20 years"
   ]
  },
  {
   "cell_type": "code",
   "execution_count": 6,
   "metadata": {},
   "outputs": [
    {
     "data": {
      "text/html": [
       "<div>\n",
       "<style scoped>\n",
       "    .dataframe tbody tr th:only-of-type {\n",
       "        vertical-align: middle;\n",
       "    }\n",
       "\n",
       "    .dataframe tbody tr th {\n",
       "        vertical-align: top;\n",
       "    }\n",
       "\n",
       "    .dataframe thead tr th {\n",
       "        text-align: left;\n",
       "    }\n",
       "\n",
       "    .dataframe thead tr:last-of-type th {\n",
       "        text-align: right;\n",
       "    }\n",
       "</style>\n",
       "<table border=\"1\" class=\"dataframe\">\n",
       "  <thead>\n",
       "    <tr>\n",
       "      <th></th>\n",
       "      <th>SPY</th>\n",
       "      <th>AGG</th>\n",
       "    </tr>\n",
       "    <tr>\n",
       "      <th></th>\n",
       "      <th>close</th>\n",
       "      <th>close</th>\n",
       "    </tr>\n",
       "    <tr>\n",
       "      <th>date</th>\n",
       "      <th></th>\n",
       "      <th></th>\n",
       "    </tr>\n",
       "  </thead>\n",
       "  <tbody>\n",
       "    <tr>\n",
       "      <th>2018-08-30</th>\n",
       "      <td>NaN</td>\n",
       "      <td>NaN</td>\n",
       "    </tr>\n",
       "    <tr>\n",
       "      <th>2018-08-31</th>\n",
       "      <td>0.000034</td>\n",
       "      <td>-0.000094</td>\n",
       "    </tr>\n",
       "    <tr>\n",
       "      <th>2018-09-04</th>\n",
       "      <td>-0.001722</td>\n",
       "      <td>-0.003289</td>\n",
       "    </tr>\n",
       "    <tr>\n",
       "      <th>2018-09-05</th>\n",
       "      <td>-0.002691</td>\n",
       "      <td>-0.000471</td>\n",
       "    </tr>\n",
       "    <tr>\n",
       "      <th>2018-09-06</th>\n",
       "      <td>-0.003010</td>\n",
       "      <td>0.001698</td>\n",
       "    </tr>\n",
       "  </tbody>\n",
       "</table>\n",
       "</div>"
      ],
      "text/plain": [
       "                 SPY       AGG\n",
       "               close     close\n",
       "date                          \n",
       "2018-08-30       NaN       NaN\n",
       "2018-08-31  0.000034 -0.000094\n",
       "2018-09-04 -0.001722 -0.003289\n",
       "2018-09-05 -0.002691 -0.000471\n",
       "2018-09-06 -0.003010  0.001698"
      ]
     },
     "execution_count": 6,
     "metadata": {},
     "output_type": "execute_result"
    }
   ],
   "source": [
    "# Calculate the daily roi for the stocks\n",
    "daily_returns_df = historical_df.pct_change()\n",
    "daily_returns_df.head()"
   ]
  },
  {
   "cell_type": "code",
   "execution_count": 7,
   "metadata": {},
   "outputs": [
    {
     "name": "stdout",
     "output_type": "stream",
     "text": [
      "Avg. Returns for SPY: 8.675940922672076e-05 \n",
      "Avg. Returns for AGG: 0.00027800801176903177\n",
      "\n",
      "Std. Dev for daily retuns for SPY: 0.010546086731997003 \n",
      "Std. Dev for daily retuns for AGG: 0.0018463740329823825\n"
     ]
    }
   ],
   "source": [
    "# Calculate volatility\n",
    "# Use the `mean` function to calculate the mean of daily returns for `TLSA` and `SPHD`, respectively\n",
    "avg_daily_return_SPY = daily_returns_df.mean()['SPY']['close']\n",
    "avg_daily_return_AGG = daily_returns_df.mean()['AGG']['close']\n",
    "print(f\"Avg. Returns for SPY: {avg_daily_return_SPY} \\nAvg. Returns for AGG: {avg_daily_return_AGG}\\n\")\n",
    "\n",
    "# Use the `std` function to calculate the standard deviation of daily returns for `TSLA` and `SPHD`, respectively\n",
    "std_dev_daily_return_SPY = daily_returns_df.std()['SPY']['close']\n",
    "std_dev_daily_return_AGG = daily_returns_df.std()['AGG']['close']\n",
    "print(f\"Std. Dev for daily retuns for SPY: {std_dev_daily_return_SPY} \\nStd. Dev for daily retuns for AGG: {std_dev_daily_return_AGG}\")"
   ]
  },
  {
   "cell_type": "code",
   "execution_count": 8,
   "metadata": {},
   "outputs": [
    {
     "name": "stdout",
     "output_type": "stream",
     "text": [
      "Last close price for SPY: 292.58 \n",
      "Last close price for AGG: 114.03\n"
     ]
    }
   ],
   "source": [
    "# Save the last day's closing price\n",
    "SPY_last_price = historical_df['SPY']['close'][-1]\n",
    "AGG_last_price = historical_df['AGG']['close'][-1]\n",
    "print(f\"Last close price for SPY: {SPY_last_price} \\nLast close price for AGG: {AGG_last_price}\")\n"
   ]
  },
  {
   "cell_type": "code",
   "execution_count": 9,
   "metadata": {},
   "outputs": [],
   "source": [
    "# Setup the Monte Carlo Parameters\n",
    "number_simulations = 500\n",
    "\n",
    "# Project for 30 years, with 252 operating days \n",
    "number_records = 252 * 30\n",
    "# Project for 2 years, with 252 operating days \n",
    "#number_records = 252 * 2\n",
    "\n",
    "# Initialize empty DataFrame to hold simulated prices for each simulation\n",
    "simulated_price_df = pd.DataFrame()\n",
    "portfolio_cumulative_returns = pd.DataFrame()"
   ]
  },
  {
   "cell_type": "code",
   "execution_count": 10,
   "metadata": {},
   "outputs": [
    {
     "data": {
      "text/html": [
       "<div>\n",
       "<style scoped>\n",
       "    .dataframe tbody tr th:only-of-type {\n",
       "        vertical-align: middle;\n",
       "    }\n",
       "\n",
       "    .dataframe tbody tr th {\n",
       "        vertical-align: top;\n",
       "    }\n",
       "\n",
       "    .dataframe thead th {\n",
       "        text-align: right;\n",
       "    }\n",
       "</style>\n",
       "<table border=\"1\" class=\"dataframe\">\n",
       "  <thead>\n",
       "    <tr style=\"text-align: right;\">\n",
       "      <th></th>\n",
       "      <th>0</th>\n",
       "      <th>1</th>\n",
       "      <th>2</th>\n",
       "      <th>3</th>\n",
       "      <th>4</th>\n",
       "      <th>5</th>\n",
       "      <th>6</th>\n",
       "      <th>7</th>\n",
       "      <th>8</th>\n",
       "      <th>9</th>\n",
       "      <th>...</th>\n",
       "      <th>490</th>\n",
       "      <th>491</th>\n",
       "      <th>492</th>\n",
       "      <th>493</th>\n",
       "      <th>494</th>\n",
       "      <th>495</th>\n",
       "      <th>496</th>\n",
       "      <th>497</th>\n",
       "      <th>498</th>\n",
       "      <th>499</th>\n",
       "    </tr>\n",
       "  </thead>\n",
       "  <tbody>\n",
       "    <tr>\n",
       "      <th>0</th>\n",
       "      <td>1.000000</td>\n",
       "      <td>1.000000</td>\n",
       "      <td>1.000000</td>\n",
       "      <td>1.000000</td>\n",
       "      <td>1.000000</td>\n",
       "      <td>1.000000</td>\n",
       "      <td>1.000000</td>\n",
       "      <td>1.000000</td>\n",
       "      <td>1.000000</td>\n",
       "      <td>1.000000</td>\n",
       "      <td>...</td>\n",
       "      <td>1.000000</td>\n",
       "      <td>1.000000</td>\n",
       "      <td>1.000000</td>\n",
       "      <td>1.000000</td>\n",
       "      <td>1.000000</td>\n",
       "      <td>1.000000</td>\n",
       "      <td>1.000000</td>\n",
       "      <td>1.000000</td>\n",
       "      <td>1.000000</td>\n",
       "      <td>1.000000</td>\n",
       "    </tr>\n",
       "    <tr>\n",
       "      <th>1</th>\n",
       "      <td>1.003204</td>\n",
       "      <td>0.993753</td>\n",
       "      <td>0.990616</td>\n",
       "      <td>0.998575</td>\n",
       "      <td>1.005985</td>\n",
       "      <td>1.009200</td>\n",
       "      <td>1.012314</td>\n",
       "      <td>0.993426</td>\n",
       "      <td>1.001853</td>\n",
       "      <td>0.998765</td>\n",
       "      <td>...</td>\n",
       "      <td>1.002174</td>\n",
       "      <td>0.994384</td>\n",
       "      <td>1.009069</td>\n",
       "      <td>0.999250</td>\n",
       "      <td>0.996692</td>\n",
       "      <td>1.003361</td>\n",
       "      <td>0.994263</td>\n",
       "      <td>0.990690</td>\n",
       "      <td>1.003789</td>\n",
       "      <td>0.996367</td>\n",
       "    </tr>\n",
       "    <tr>\n",
       "      <th>2</th>\n",
       "      <td>1.008608</td>\n",
       "      <td>0.998104</td>\n",
       "      <td>0.988764</td>\n",
       "      <td>0.997482</td>\n",
       "      <td>1.010062</td>\n",
       "      <td>0.996508</td>\n",
       "      <td>1.004606</td>\n",
       "      <td>0.979250</td>\n",
       "      <td>1.000328</td>\n",
       "      <td>1.009782</td>\n",
       "      <td>...</td>\n",
       "      <td>1.004181</td>\n",
       "      <td>1.003566</td>\n",
       "      <td>1.012612</td>\n",
       "      <td>1.000670</td>\n",
       "      <td>0.998014</td>\n",
       "      <td>0.999589</td>\n",
       "      <td>0.993013</td>\n",
       "      <td>0.990928</td>\n",
       "      <td>1.003358</td>\n",
       "      <td>1.000575</td>\n",
       "    </tr>\n",
       "    <tr>\n",
       "      <th>3</th>\n",
       "      <td>1.007104</td>\n",
       "      <td>0.997719</td>\n",
       "      <td>0.992979</td>\n",
       "      <td>0.989095</td>\n",
       "      <td>1.008846</td>\n",
       "      <td>1.000709</td>\n",
       "      <td>1.008989</td>\n",
       "      <td>0.971269</td>\n",
       "      <td>0.999550</td>\n",
       "      <td>1.019618</td>\n",
       "      <td>...</td>\n",
       "      <td>1.003655</td>\n",
       "      <td>1.007261</td>\n",
       "      <td>1.018348</td>\n",
       "      <td>1.001813</td>\n",
       "      <td>0.989047</td>\n",
       "      <td>0.997206</td>\n",
       "      <td>0.997061</td>\n",
       "      <td>0.998489</td>\n",
       "      <td>1.007190</td>\n",
       "      <td>0.998138</td>\n",
       "    </tr>\n",
       "    <tr>\n",
       "      <th>4</th>\n",
       "      <td>1.017903</td>\n",
       "      <td>1.000929</td>\n",
       "      <td>0.987321</td>\n",
       "      <td>0.996025</td>\n",
       "      <td>1.009880</td>\n",
       "      <td>0.993229</td>\n",
       "      <td>1.006415</td>\n",
       "      <td>0.967604</td>\n",
       "      <td>1.009512</td>\n",
       "      <td>1.005042</td>\n",
       "      <td>...</td>\n",
       "      <td>1.005933</td>\n",
       "      <td>1.004057</td>\n",
       "      <td>1.015879</td>\n",
       "      <td>1.008780</td>\n",
       "      <td>0.996695</td>\n",
       "      <td>0.992758</td>\n",
       "      <td>0.989253</td>\n",
       "      <td>0.998695</td>\n",
       "      <td>1.012967</td>\n",
       "      <td>1.002296</td>\n",
       "    </tr>\n",
       "  </tbody>\n",
       "</table>\n",
       "<p>5 rows × 500 columns</p>\n",
       "</div>"
      ],
      "text/plain": [
       "        0         1         2         3         4         5         6    \\\n",
       "0  1.000000  1.000000  1.000000  1.000000  1.000000  1.000000  1.000000   \n",
       "1  1.003204  0.993753  0.990616  0.998575  1.005985  1.009200  1.012314   \n",
       "2  1.008608  0.998104  0.988764  0.997482  1.010062  0.996508  1.004606   \n",
       "3  1.007104  0.997719  0.992979  0.989095  1.008846  1.000709  1.008989   \n",
       "4  1.017903  1.000929  0.987321  0.996025  1.009880  0.993229  1.006415   \n",
       "\n",
       "        7         8         9    ...       490       491       492       493  \\\n",
       "0  1.000000  1.000000  1.000000  ...  1.000000  1.000000  1.000000  1.000000   \n",
       "1  0.993426  1.001853  0.998765  ...  1.002174  0.994384  1.009069  0.999250   \n",
       "2  0.979250  1.000328  1.009782  ...  1.004181  1.003566  1.012612  1.000670   \n",
       "3  0.971269  0.999550  1.019618  ...  1.003655  1.007261  1.018348  1.001813   \n",
       "4  0.967604  1.009512  1.005042  ...  1.005933  1.004057  1.015879  1.008780   \n",
       "\n",
       "        494       495       496       497       498       499  \n",
       "0  1.000000  1.000000  1.000000  1.000000  1.000000  1.000000  \n",
       "1  0.996692  1.003361  0.994263  0.990690  1.003789  0.996367  \n",
       "2  0.998014  0.999589  0.993013  0.990928  1.003358  1.000575  \n",
       "3  0.989047  0.997206  0.997061  0.998489  1.007190  0.998138  \n",
       "4  0.996695  0.992758  0.989253  0.998695  1.012967  1.002296  \n",
       "\n",
       "[5 rows x 500 columns]"
      ]
     },
     "execution_count": 10,
     "metadata": {},
     "output_type": "execute_result"
    }
   ],
   "source": [
    "# Run the Monte Carlo Simulation\n",
    "for x in range(number_simulations):\n",
    "    \n",
    "    # Initialize the simulated prices list with the last closing price of SPY and AGG\n",
    "    simulated_SPY_prices = [SPY_last_price]\n",
    "    simulated_AGG_prices = [AGG_last_price]\n",
    "    \n",
    "    # Simulate the returns for 252 * 20 days\n",
    "    for i in range(number_records):\n",
    "        \n",
    "        # Calculate the simulated price using the last price within the list\n",
    "        simulated_SPY_price = simulated_SPY_prices[-1] * (1 + np.random.normal(avg_daily_return_SPY, std_dev_daily_return_SPY))\n",
    "        simulated_AGG_price = simulated_AGG_prices[-1] * (1 + np.random.normal(avg_daily_return_AGG, std_dev_daily_return_AGG))\n",
    "        \n",
    "        # Append the simulated price to the list\n",
    "        simulated_SPY_prices.append(simulated_SPY_price)\n",
    "        simulated_AGG_prices.append(simulated_AGG_price)\n",
    "    \n",
    "    # Append a simulated prices of each simulation to DataFrame\n",
    "    simulated_price_df[\"SPY prices\"] = pd.Series(simulated_SPY_prices)\n",
    "    simulated_price_df[\"AGG prices\"] = pd.Series(simulated_AGG_prices)\n",
    "    \n",
    "    # Calculate the daily returns of simulated prices\n",
    "    simulated_daily_returns = simulated_price_df.pct_change()\n",
    "    \n",
    "    # Set the portfolio weights (60% SPY; 40% AGG)\n",
    "    weights = [0.60, 0.40]\n",
    "\n",
    "    # Use the `dot` function with the weights to multiply weights with each column's simulated daily returns\n",
    "    portfolio_daily_returns = simulated_daily_returns.dot(weights)\n",
    "    \n",
    "    # Calculate the normalized, cumulative return series\n",
    "    portfolio_cumulative_returns[x] = (1 + portfolio_daily_returns.fillna(0)).cumprod()\n",
    "\n",
    "# Print records from the DataFrame\n",
    "portfolio_cumulative_returns.head()\n",
    "    \n",
    "    "
   ]
  },
  {
   "cell_type": "code",
   "execution_count": 11,
   "metadata": {},
   "outputs": [
    {
     "data": {
      "text/plain": [
       "<matplotlib.axes._subplots.AxesSubplot at 0x1fc110d6c88>"
      ]
     },
     "execution_count": 11,
     "metadata": {},
     "output_type": "execute_result"
    },
    {
     "data": {
      "image/png": "[encoded data removed]",
      "text/plain": [
       "<Figure size 432x288 with 1 Axes>"
      ]
     },
     "metadata": {
      "needs_background": "light"
     },
     "output_type": "display_data"
    }
   ],
   "source": [
    "# Visualize the Simulation\n",
    "# Use the `plot` function to plot `100` simulations of the potential trajectories of the portfolio based on 30 years\n",
    "plot_title = f\"{number_simulations} Simulations of Cumulative Portfolio Return Trajectories Over the Next 30 Years\"\n",
    "portfolio_cumulative_returns.plot(legend=None, title=plot_title)"
   ]
  },
  {
   "cell_type": "code",
   "execution_count": 15,
   "metadata": {},
   "outputs": [
    {
     "data": {
      "text/plain": [
       "0    3.579538\n",
       "1    2.782209\n",
       "2    4.258617\n",
       "3    4.656459\n",
       "4    4.007898\n",
       "Name: 7560, dtype: float64"
      ]
     },
     "execution_count": 15,
     "metadata": {},
     "output_type": "execute_result"
    }
   ],
   "source": [
    "# Select the last row for the cumulative returns (cumulative returns at 30 years)\n",
    "ending_cumulative_returns_30yrs = portfolio_cumulative_returns.iloc[-1, :]\n",
    "ending_cumulative_returns_30yrs.head()"
   ]
  },
  {
   "cell_type": "code",
   "execution_count": 17,
   "metadata": {},
   "outputs": [
    {
     "data": {
      "text/plain": [
       "0    1.768325\n",
       "1    2.017229\n",
       "2    1.451846\n",
       "3    2.343277\n",
       "4    2.568090\n",
       "Name: 5041, dtype: float64"
      ]
     },
     "execution_count": 17,
     "metadata": {},
     "output_type": "execute_result"
    }
   ],
   "source": [
    "# Select the last row for the cumulative returns (cumulative returns at 20 years)\n",
    "ending_cumulative_returns_20yrs = portfolio_cumulative_returns.iloc[-2520, :]\n",
    "ending_cumulative_returns_20yrs.head()"
   ]
  },
  {
   "cell_type": "code",
   "execution_count": 32,
   "metadata": {},
   "outputs": [
    {
     "data": {
      "text/plain": [
       "0.05    1.120475\n",
       "0.95    7.042014\n",
       "Name: 7560, dtype: float64"
      ]
     },
     "execution_count": 32,
     "metadata": {},
     "output_type": "execute_result"
    }
   ],
   "source": [
    "# Calculate the 90% confidence interval for the ending returns\n",
    "confidence_interval = ending_cumulative_returns_30yrs.quantile(q=[0.05, 0.95])\n",
    "confidence_interval"
   ]
  },
  {
   "cell_type": "code",
   "execution_count": 33,
   "metadata": {},
   "outputs": [
    {
     "data": {
      "text/plain": [
       "<matplotlib.lines.Line2D at 0x1fc1478c550>"
      ]
     },
     "execution_count": 33,
     "metadata": {},
     "output_type": "execute_result"
    },
    {
     "data": {
      "image/png": "[encoded data removed]",
      "text/plain": [
       "<Figure size 432x288 with 1 Axes>"
      ]
     },
     "metadata": {
      "needs_background": "light"
     },
     "output_type": "display_data"
    }
   ],
   "source": [
    "# # Calculate the Probability Distribution of Ending Cumulative Return Ranges\n",
    "# print(ending_cumulative_returns_30yrs.value_counts(bins=10) / len(ending_cumulative_returns_30yrs))\n",
    "\n",
    "# Visualize the distribution of the ending returns\n",
    "plt.figure();\n",
    "ending_cumulative_returns_30yrs.plot(kind='hist', density=True, bins=10)\n",
    "plt.axvline(confidence_interval.iloc[0], color='r')\n",
    "plt.axvline(confidence_interval.iloc[1], color='r')"
   ]
  },
  {
   "cell_type": "markdown",
   "metadata": {},
   "source": [
    "---"
   ]
  },
  {
   "cell_type": "markdown",
   "metadata": {},
   "source": [
    "# Retirement Analysis\n",
    "\n",
    "In this section, you will use the monte carlo model to answer the following retirement planning questions:\n",
    "\n",
    "1. What are the expected cumulative returns at 30 years for the 10th, 50th, and 90th percentiles?\n",
    "2. Given an initial investment of `$20,000`, what is the expected portfolio return in dollars at the 10th, 50th, and 90th percentiles?\n",
    "3. Given the current projected annual income from the Plaid analysis, will a 4% withdraw rate from the retirement portfolio meet or exceed that value at the 10th percentile?\n",
    "4. How would a 50% increase in the initial investment amount affect the 4% retirement withdrawal?"
   ]
  },
  {
   "cell_type": "markdown",
   "metadata": {},
   "source": [
    "### What are the expected cumulative returns at 30 years for the 10th, 50th, and 90th percentiles?"
   ]
  },
  {
   "cell_type": "code",
   "execution_count": 35,
   "metadata": {},
   "outputs": [
    {
     "data": {
      "text/plain": [
       "0.0    0.463739\n",
       "0.1    1.492467\n",
       "0.5    2.838916\n",
       "0.9    5.669872\n",
       "Name: 7560, dtype: float64"
      ]
     },
     "execution_count": 35,
     "metadata": {},
     "output_type": "execute_result"
    }
   ],
   "source": [
    "confidence_interval = ending_cumulative_returns_30yrs.quantile(q=[0, 0.10, .50, 0.90])\n",
    "confidence_interval"
   ]
  },
  {
   "cell_type": "markdown",
   "metadata": {},
   "source": [
    "### Given an initial investment of `$20,000`, what is the expected portfolio return in dollars at the 10th, 50th, and 90th percentiles?"
   ]
  },
  {
   "cell_type": "code",
   "execution_count": 41,
   "metadata": {},
   "outputs": [
    {
     "name": "stdout",
     "output_type": "stream",
     "text": [
      "On the low side, initial investment of $20,000 in the portfolio over 30 years will yeild $29275.0\n",
      "There is a 10% chance that portfolio over 30 years will yeild below $49849.0\n",
      "There is a 50% chance that portfolio over 30 years will yeild below $76778.0\n",
      "There is a 90% chance that portfolio over 30 years will yeild below $133397.0\n"
     ]
    }
   ],
   "source": [
    "initial_investment = 20000\n",
    "\n",
    "# Calculate investment profit/loss of lower and upper bound cumulative portfolio returns\n",
    "investment_expected_return_p00 = initial_investment + (initial_investment * confidence_interval.iloc[0])\n",
    "investment_expected_return_p10 = initial_investment + (initial_investment * confidence_interval.iloc[1])\n",
    "investment_expected_return_p50 = initial_investment + (initial_investment * confidence_interval.iloc[2])\n",
    "investment_expected_return_p90 = initial_investment + (initial_investment * confidence_interval.iloc[3])\n",
    "                                                    \n",
    "# Print the results\n",
    "print(f\"On the low side, initial investment of $20,000 in the portfolio over 30 years will yeild ${round(investment_expected_return_p00)}\")\n",
    "print(f\"There is a 10% chance that portfolio over 30 years will yeild below ${round(investment_expected_return_p10)}\")\n",
    "print(f\"There is a 50% chance that portfolio over 30 years will yeild below ${round(investment_expected_return_p50)}\")\n",
    "print(f\"There is a 90% chance that portfolio over 30 years will yeild below ${round(investment_expected_return_p90)}\")\n"
   ]
  },
  {
   "cell_type": "markdown",
   "metadata": {},
   "source": [
    "### Given the current projected annual income from the Plaid analysis, will a 4% withdraw rate from the retirement portfolio meet or exceed that value at the 10th percentile?\n",
    "\n",
    "Note: This is effectively saying that 90% of the expected returns will be greater than the return at the 10th percentile, so this can help measure the uncertainty about having enough funds at retirement"
   ]
  },
  {
   "cell_type": "code",
   "execution_count": 46,
   "metadata": {},
   "outputs": [
    {
     "name": "stdout",
     "output_type": "stream",
     "text": [
      "Expected portfolio return at 10th percentile will not exceed projected yearly income\n"
     ]
    }
   ],
   "source": [
    "projected_yearly_income_before_tax = 7389\n",
    "retirement_withdrawal_rate = .04\n",
    "if (retirement_withdrawal_rate * investment_expected_return_p10 > projected_yearly_income_before_tax):\n",
    "    print(\"Expected portfolio return at 10th percentile will exceed projected yearly income\")\n",
    "else:\n",
    "    print(\"Expected portfolio return at 10th percentile will not exceed projected yearly income\")"
   ]
  },
  {
   "cell_type": "markdown",
   "metadata": {},
   "source": [
    "### How would a 50% increase in the initial investment amount affect the 4% retirement withdrawal?"
   ]
  },
  {
   "cell_type": "code",
   "execution_count": 44,
   "metadata": {},
   "outputs": [
    {
     "name": "stdout",
     "output_type": "stream",
     "text": [
      "Expected portfolio return at 10th percentile will not exceed projected yearly income\n"
     ]
    }
   ],
   "source": [
    "increase_investment_pct = .5\n",
    "new_initial_investment = initial_investment * (1 + increase_investment_pct)\n",
    "new_investment_expected_return_p10 = new_initial_investment + (new_initial_investment * confidence_interval.iloc[1])\n",
    "\n",
    "if (retirement_withdrawal_rate * new_investment_expected_return_p10 > projected_yearly_income_before_tax):\n",
    "    print(\"Expected portfolio return at 10th percentile will exceed projected yearly income\")\n",
    "else:\n",
    "    print(\"Expected portfolio return at 10th percentile will not exceed projected yearly income\")"
   ]
  },
  {
   "cell_type": "markdown",
   "metadata": {},
   "source": [
    "### Optional Challenge\n",
    "\n",
    "In this section, you will calculate and plot the cumulative returns for the median and 90% confidence intervals. This plot shows the expected cumulative returns for any given day between the first day and the last day of investment. "
   ]
  },
  {
   "cell_type": "code",
   "execution_count": null,
   "metadata": {},
   "outputs": [],
   "source": [
    "# YOUR CODE HERE"
   ]
  }
 ],
 "metadata": {
  "kernel_info": {
   "name": "dev"
  },
  "kernelspec": {
   "display_name": "Python 3",
   "language": "python",
   "name": "python3"
  },
  "language_info": {
   "codemirror_mode": {
    "name": "ipython",
    "version": 3
   },
   "file_extension": ".py",
   "mimetype": "text/x-python",
   "name": "python",
   "nbconvert_exporter": "python",
   "pygments_lexer": "ipython3",
   "version": "3.7.3"
  },
  "nteract": {
   "version": "0.12.3"
  }
 },
 "nbformat": 4,
 "nbformat_minor": 4
}
